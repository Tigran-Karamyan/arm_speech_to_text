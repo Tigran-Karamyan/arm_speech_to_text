{
 "cells": [
  {
   "cell_type": "markdown",
   "id": "dad7e247",
   "metadata": {},
   "source": [
    "### Data Anotation"
   ]
  },
  {
   "cell_type": "code",
   "execution_count": null,
   "id": "5e757c36",
   "metadata": {},
   "outputs": [],
   "source": [
    "import os\n",
    "file_list=os.listdir(\"../Done\")"
   ]
  },
  {
   "cell_type": "code",
   "execution_count": null,
   "id": "6b02332e",
   "metadata": {},
   "outputs": [],
   "source": [
    "json_audio_files = list()\n",
    "for file in file_list:\n",
    "    local_files = os.listdir(os.path.join(\"../Done\", file))\n",
    "    for json_file in local_files:\n",
    "        if json_file.endswith(\".json\"):\n",
    "            print(json_file)\n",
    "            json_audio_files.append(os.path.join(\"../Done\", file, json_file))"
   ]
  },
  {
   "cell_type": "code",
   "execution_count": null,
   "id": "ebc81799",
   "metadata": {
    "scrolled": false
   },
   "outputs": [],
   "source": [
    "import json\n",
    "\n",
    "total_annotation_duration = 0\n",
    "for file in json_audio_files:\n",
    "    with open(file, encoding=\"UTF8\") as json_file:\n",
    "        data = json.load(json_file)\n",
    "        completions = data[0].get('completions')\n",
    "        annotations = data[0].get('annotations')\n",
    "        if completions:\n",
    "            audio_results = completions[0]['result']\n",
    "            for result in audio_results:\n",
    "                if result.get('from_name') == 'transcription':\n",
    "                    value = result.get('value')\n",
    "                    duration = float(value.get('end')) - float(value.get('start'))\n",
    "                    duration_in_hours = duration/3600\n",
    "                    total_annotation_duration += duration_in_hours\n",
    "        elif annotations:\n",
    "            audio_results = annotations[0]['result']\n",
    "            for result in audio_results:\n",
    "                if result.get('from_name') == 'transcription':\n",
    "                    value = result.get('value')\n",
    "                    duration = float(value.get('end')) - float(value.get('start'))\n",
    "                    duration_in_hours = duration/3600\n",
    "                    total_annotation_duration += duration_in_hours\n",
    "print(f\"Total Anotated Speech: {total_annotation_duration}\")"
   ]
  },
  {
   "cell_type": "code",
   "execution_count": null,
   "id": "9ba28402",
   "metadata": {},
   "outputs": [],
   "source": [
    "man_readers_speech = 0\n",
    "woman_readers_speech = 0\n",
    "\n",
    "for file in json_audio_files:\n",
    "    with open(file, encoding=\"UTF8\") as json_file:\n",
    "        data = json.load(json_file)\n",
    "        completions = data[0].get('completions')\n",
    "        annotations = data[0].get('annotations')\n",
    "        if completions:\n",
    "            audio_results = completions[0]['result']\n",
    "            for result in audio_results:\n",
    "                if result.get('from_name') == 'labels':\n",
    "                    value = result.get('value')\n",
    "                    reader = value.get('labels')[0]\n",
    "                    duration = float(value.get('end')) - float(value.get('start'))\n",
    "                    duration_in_hours = duration/3600\n",
    "                    if reader.startswith(\"Կին\"):\n",
    "                        woman_readers_speech += duration_in_hours\n",
    "                    elif reader.startswith(\"Տղամարդ\"):\n",
    "                        man_readers_speech += duration_in_hours\n",
    "                    \n",
    "        elif annotations:\n",
    "            audio_results = annotations[0]['result']\n",
    "            for result in audio_results:\n",
    "                if result.get('from_name') == 'labels':\n",
    "                    value = result.get('value')\n",
    "                    reader = value.get('labels')[0]\n",
    "                    duration = float(value.get('end')) - float(value.get('start'))\n",
    "                    duration_in_hours = duration/3600\n",
    "                    if reader.startswith(\"Կին\"):\n",
    "                        woman_readers_speech += duration_in_hours\n",
    "                    elif reader.startswith(\"Տղամարդ\"):\n",
    "                        man_readers_speech += duration_in_hours\n",
    "                        \n",
    "print(f\"Total Anotated Man's Speech: {man_readers_speech}\" , f\"\\nTotal Anotated Woman's Speech: {woman_readers_speech}\")"
   ]
  },
  {
   "cell_type": "code",
   "execution_count": null,
   "id": "bf6dab81",
   "metadata": {},
   "outputs": [],
   "source": []
  }
 ],
 "metadata": {
  "kernelspec": {
   "display_name": "Python 3",
   "language": "python",
   "name": "python3"
  },
  "language_info": {
   "codemirror_mode": {
    "name": "ipython",
    "version": 3
   },
   "file_extension": ".py",
   "mimetype": "text/x-python",
   "name": "python",
   "nbconvert_exporter": "python",
   "pygments_lexer": "ipython3",
   "version": "3.7.10"
  }
 },
 "nbformat": 4,
 "nbformat_minor": 5
}
