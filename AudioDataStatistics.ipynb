{
 "cells": [
  {
   "cell_type": "markdown",
   "id": "dad7e247",
   "metadata": {},
   "source": [
    "### Data Anotation"
   ]
  },
  {
   "cell_type": "code",
   "execution_count": null,
   "id": "5e757c36",
   "metadata": {},
   "outputs": [],
   "source": [
    "import os\n",
    "import json\n",
    "import pandas as pd\n",
    "import wave\n",
    "import librosa\n",
    "from pydub import AudioSegment\n",
    "from pydub.utils import mediainfo\n",
    "AudioSegment.converter = \"C:/Users/tkaramyan/Anaconda3.1/Lib/site-packages/ffmpeg\"\n",
    "\n",
    "file_list=os.listdir(\"../Done\")\n",
    "len(file_list)"
   ]
  },
  {
   "cell_type": "code",
   "execution_count": null,
   "id": "6b02332e",
   "metadata": {},
   "outputs": [],
   "source": [
    "json_audio_files = list()\n",
    "for file in file_list:\n",
    "    local_files = os.listdir(os.path.join(\"../Done\", file))\n",
    "    for json_file in local_files:\n",
    "        if json_file.endswith(\".json\"):\n",
    "#             print(json_file)\n",
    "            json_audio_files.append(os.path.join(\"../Done\", file, json_file))"
   ]
  },
  {
   "cell_type": "code",
   "execution_count": null,
   "id": "16f1fedf",
   "metadata": {},
   "outputs": [],
   "source": [
    "audio_files = list()\n",
    "for file in file_list:\n",
    "    local_files = os.listdir(os.path.join(\"../Done\", file))\n",
    "    for audio_file in local_files:\n",
    "        if audio_file.endswith(\".mp3\"):\n",
    "#             print(audio_file)\n",
    "            audio_files.append(os.path.join(\"../Done\", file, audio_file))"
   ]
  },
  {
   "cell_type": "code",
   "execution_count": null,
   "id": "3ef8aea7",
   "metadata": {},
   "outputs": [],
   "source": [
    "def get_annotated_duration(value):\n",
    "    value = result.get('value')\n",
    "    duration = float(value.get('end')) - float(value.get('start'))\n",
    "    duration_in_hours = duration/3600\n",
    "    return duration_in_hours"
   ]
  },
  {
   "cell_type": "code",
   "execution_count": null,
   "id": "ebc81799",
   "metadata": {
    "scrolled": false
   },
   "outputs": [],
   "source": [
    "total_annotation_duration = 0\n",
    "for file in json_audio_files:\n",
    "    with open(file, encoding=\"UTF8\") as json_file:\n",
    "        data = json.load(json_file)\n",
    "        completions = data[0].get('completions')\n",
    "        annotations = data[0].get('annotations')\n",
    "        if completions:\n",
    "            audio_results = completions[0]['result']\n",
    "            for result in audio_results:\n",
    "                if result.get('from_name') == 'transcription':\n",
    "                    duration_in_hours = get_annotated_duration('value')\n",
    "                    total_annotation_duration += duration_in_hours\n",
    "        elif annotations:\n",
    "            audio_results = annotations[0]['result']\n",
    "            for result in audio_results:\n",
    "                if result.get('from_name') == 'transcription':\n",
    "                    duration_in_hours = get_annotated_duration('value')\n",
    "                    total_annotation_duration += duration_in_hours\n",
    "print(f\"Total Anotated Speech: {total_annotation_duration}\")"
   ]
  },
  {
   "cell_type": "code",
   "execution_count": null,
   "id": "9ba28402",
   "metadata": {},
   "outputs": [],
   "source": [
    "man_readers_speech = 0\n",
    "woman_readers_speech = 0\n",
    "\n",
    "for file in json_audio_files:\n",
    "    with open(file, encoding=\"UTF8\") as json_file:\n",
    "        data = json.load(json_file)\n",
    "        completions = data[0].get('completions')\n",
    "        annotations = data[0].get('annotations')\n",
    "        if completions:\n",
    "            audio_results = completions[0]['result']\n",
    "            for result in audio_results:\n",
    "                if result.get('from_name') == 'labels':\n",
    "                    value = result.get('value')\n",
    "                    reader = value.get('labels')[0]\n",
    "                    duration = float(value.get('end')) - float(value.get('start'))\n",
    "                    duration_in_hours = duration/3600\n",
    "                    if reader.startswith(\"Կին\"):\n",
    "                        woman_readers_speech += duration_in_hours\n",
    "                    elif reader.startswith(\"Տղամարդ\"):\n",
    "                        man_readers_speech += duration_in_hours\n",
    "                    \n",
    "        elif annotations:\n",
    "            audio_results = annotations[0]['result']\n",
    "            for result in audio_results:\n",
    "                if result.get('from_name') == 'labels':\n",
    "                    value = result.get('value')\n",
    "                    reader = value.get('labels')[0]\n",
    "                    duration = float(value.get('end')) - float(value.get('start'))\n",
    "                    duration_in_hours = duration/3600\n",
    "                    if reader.startswith(\"Կին\"):\n",
    "                        woman_readers_speech += duration_in_hours\n",
    "                    elif reader.startswith(\"Տղամարդ\"):\n",
    "                        man_readers_speech += duration_in_hours\n",
    "                        \n",
    "print(f\"Total Anotated Man's Speech: {man_readers_speech}\" , f\"\\nTotal Anotated Woman's Speech: {woman_readers_speech}\")"
   ]
  },
  {
   "cell_type": "code",
   "execution_count": null,
   "id": "bf6dab81",
   "metadata": {},
   "outputs": [],
   "source": [
    "summary_data = dict()\n",
    "for file in json_audio_files:\n",
    "    with open(file, encoding=\"UTF8\") as json_file:\n",
    "        data = json.load(json_file)\n",
    "        completions = data[0].get('completions')\n",
    "        annotations = data[0].get('annotations')\n",
    "        if completions:\n",
    "            reader_speech_time = 0 \n",
    "            audio_results = completions[0]['result']\n",
    "            for result in audio_results:\n",
    "                if result.get('from_name') == 'labels':\n",
    "                    value = result.get('value')\n",
    "                    reader = value.get('labels')[0]\n",
    "                    duration = float(value.get('end')) - float(value.get('start'))\n",
    "                    duration_in_hours = duration/3600\n",
    "                    reader_speech_time += duration_in_hours \n",
    "        elif annotations:\n",
    "            reader_speech_time = 0\n",
    "            audio_results = annotations[0]['result']\n",
    "            for result in audio_results:\n",
    "                if result.get('from_name') == 'labels':\n",
    "                    value = result.get('value')\n",
    "                    reader = value.get('labels')[0]\n",
    "                    duration = float(value.get('end')) - float(value.get('start'))\n",
    "                    duration_in_hours = duration/3600\n",
    "                    reader_speech_time += duration_in_hours\n",
    "        \n",
    "        summary_data[reader] = [round(reader_speech_time, 2)] if reader not in summary_data.keys() else [round((summary_data[reader][0] + reader_speech_time), 2)]\n",
    "print(summary_data)"
   ]
  },
  {
   "cell_type": "code",
   "execution_count": null,
   "id": "dec4d44c",
   "metadata": {},
   "outputs": [],
   "source": [
    "\n",
    "df = pd.DataFrame.from_dict(summary_data, orient='index', columns=['Speech_Duration']).reset_index()\n",
    "df.rename(columns={'index': 'Reader'}, inplace=True)"
   ]
  },
  {
   "cell_type": "code",
   "execution_count": null,
   "id": "ee0dab69",
   "metadata": {},
   "outputs": [],
   "source": [
    "sorted_df = df.sort_values(by=['Reader', 'Speech_Duration']).reset_index(drop=True)\n",
    "splitted_readers = sorted_df.Reader.str.split('-', expand=True)\n",
    "sorted_df = splitted_readers.join(sorted_df[['Speech_Duration']])\n",
    "sorted_df.columns = ['Sex', 'Reader', 'Speech_Duration']"
   ]
  },
  {
   "cell_type": "code",
   "execution_count": null,
   "id": "fab490a0",
   "metadata": {},
   "outputs": [],
   "source": [
    "sorted_df = sorted_df.sort_values(by=['Sex', 'Speech_Duration'], ascending=False).reset_index(drop=True)"
   ]
  },
  {
   "cell_type": "code",
   "execution_count": null,
   "id": "7aa20f7c",
   "metadata": {},
   "outputs": [],
   "source": [
    "sorted_df"
   ]
  },
  {
   "cell_type": "code",
   "execution_count": null,
   "id": "ec4297ef",
   "metadata": {},
   "outputs": [],
   "source": []
  }
 ],
 "metadata": {
  "kernelspec": {
   "display_name": "Python 3",
   "language": "python",
   "name": "python3"
  },
  "language_info": {
   "codemirror_mode": {
    "name": "ipython",
    "version": 3
   },
   "file_extension": ".py",
   "mimetype": "text/x-python",
   "name": "python",
   "nbconvert_exporter": "python",
   "pygments_lexer": "ipython3",
   "version": "3.7.10"
  }
 },
 "nbformat": 4,
 "nbformat_minor": 5
}
